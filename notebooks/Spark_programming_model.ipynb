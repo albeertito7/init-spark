{
 "cells": [
  {
   "cell_type": "markdown",
   "id": "recognized-quilt",
   "metadata": {},
   "source": [
    "# The Spark programming model\n",
    "\n",
    "- Resilient distributed datasets (RDDs)\n",
    "    - immutable collections partitioned accross cluster that can be rebuilt if a partition is lost\n",
    "    - created by transforming data in stable storage using data flow operators (map, filter, group-by, ...)\n",
    "    - can be **cached** accross parallel operations\n",
    "\n",
    "- parallel operations on RDDs\n",
    "    - reduce, collect, count, save, ...\n",
    "\n",
    "- restricted shared variables\n",
    "    - accumulators, broadcast variables\n",
    "    \n",
    "## Spark application\n",
    "\n",
    "<div style=\"display: inline-block; text-align: left; margin: 15px; 0px; 15px; 0px;\"><img src='assets/spark-application1.png' width='500'/></div>\n",
    "\n",
    "- a spark application consists of a driver program that launches various parallel operations on a cluster\n",
    "    - the driver contains application's main function and defines distributes datasets on the cluster,\n",
    "    - then applies operations to them\n",
    "    \n",
    "<div style=\"display: inline-block; text-align: left; margin: 15px; 0px; 15px; 0px;\"><img src='assets/spark-application2.png' width='500'/></div>\n",
    "\n",
    "- a driver program access Spark through a **SparkContext** object\n",
    "    - represents a connection to a computing cluste. It is used to create and manipulate distributed datasets and shared variables\n",
    "    - **SparkContext** is initialized with an instance of a **SparkConf** object, which contains various Spark cluster-configuration settings\n",
    "    \n",
    "<div style=\"display: inline-block; text-align: left; margin: 15px; 0px; 15px; 0px;\"><img src='assets/spark-application3.png' width='500'/></div>\n",
    "\n",
    "- to run their operations, driver programms typically manage a number of nodes called **executors**\n",
    "    - they perform individual tasks and returns the results to Driver\n",
    "    - provide memory storage for datasets\n",
    "\n",
    "## Spark's Shells\n",
    "\n",
    "- the Spark shell provides an easy and convenient way to quickly prototype certain operations without having to develop a full program, packaging it and then deploying it\n",
    "\n",
    "- Spark supports writing programs interactively using either the Scala or Python REPL (interactive shell)\n",
    "    - Scala shell: ./bin/spark-shell\n",
    "    - Python shell: ./bin/pyspark\n",
    "    "
   ]
  }
 ],
 "metadata": {
  "kernelspec": {
   "display_name": "Python 3",
   "language": "python",
   "name": "python3"
  },
  "language_info": {
   "codemirror_mode": {
    "name": "ipython",
    "version": 3
   },
   "file_extension": ".py",
   "mimetype": "text/x-python",
   "name": "python",
   "nbconvert_exporter": "python",
   "pygments_lexer": "ipython3",
   "version": "3.9.0"
  }
 },
 "nbformat": 4,
 "nbformat_minor": 5
}
